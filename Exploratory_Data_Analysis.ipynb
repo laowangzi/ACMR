{
 "cells": [
  {
   "cell_type": "code",
   "execution_count": 1,
   "id": "1c5cf294",
   "metadata": {
    "ExecuteTime": {
     "end_time": "2024-04-16T12:28:30.983037Z",
     "start_time": "2024-04-16T12:28:30.430281Z"
    }
   },
   "outputs": [],
   "source": [
    "import numpy as np\n",
    "import pandas as pd\n",
    "\n",
    "def load_data(all_mkt):\n",
    "    data = {}\n",
    "    for mkt in all_mkt:\n",
    "        #load data\n",
    "        mkt_data = pd.read_csv(f'./data/{mkt.lower()}_5core.txt', sep=' ', usecols=['userId', 'itemId', 'rate'])\n",
    "        #show statistic infomation\n",
    "        statistic(mkt_data, mkt)\n",
    "        data[mkt] = mkt_data\n",
    "    return data\n",
    "\n",
    "def statistic(df, mkt):\n",
    "    user_num = len(df['userId'].unique())\n",
    "    item_num = len(df['itemId'].unique())\n",
    "    sparse = len(df)/(user_num*item_num)\n",
    "    interaction = len(df)\n",
    "    print(f'{mkt}: users num={user_num}, item num={item_num}, ratings={interaction}, sparse={sparse}')"
   ]
  },
  {
   "cell_type": "code",
   "execution_count": 2,
   "id": "98215438",
   "metadata": {},
   "outputs": [
    {
     "name": "stdout",
     "output_type": "stream",
     "text": [
      "de: users num=1851, item num=2179, ratings=17300, sparse=0.004289260806643842\n",
      "ca: users num=4668, item num=5735, ratings=44779, sparse=0.001672669435336323\n",
      "fr: users num=1838, item num=1879, ratings=17624, sparse=0.005103077887955821\n",
      "in: users num=239, item num=470, ratings=2015, sparse=0.017938217751268585\n",
      "jp: users num=487, item num=955, ratings=4485, sparse=0.009643398518550372\n",
      "mx: users num=1878, item num=1645, ratings=17095, sparse=0.005533598117378961\n",
      "uk: users num=3352, item num=3251, ratings=31547, sparse=0.0028949234639754685\n"
     ]
    }
   ],
   "source": [
    "all_mkt = ['de', 'ca', 'fr', 'in', 'jp', 'mx', 'uk']\n",
    "data_all = load_data(all_mkt)"
   ]
  },
  {
   "cell_type": "code",
   "execution_count": 3,
   "id": "0783b57b",
   "metadata": {},
   "outputs": [
    {
     "data": {
      "text/html": [
       "<div>\n",
       "<style scoped>\n",
       "    .dataframe tbody tr th:only-of-type {\n",
       "        vertical-align: middle;\n",
       "    }\n",
       "\n",
       "    .dataframe tbody tr th {\n",
       "        vertical-align: top;\n",
       "    }\n",
       "\n",
       "    .dataframe thead th {\n",
       "        text-align: right;\n",
       "    }\n",
       "</style>\n",
       "<table border=\"1\" class=\"dataframe\">\n",
       "  <thead>\n",
       "    <tr style=\"text-align: right;\">\n",
       "      <th></th>\n",
       "      <th>userId</th>\n",
       "      <th>itemId</th>\n",
       "      <th>rate</th>\n",
       "    </tr>\n",
       "  </thead>\n",
       "  <tbody>\n",
       "    <tr>\n",
       "      <th>0</th>\n",
       "      <td>AE7MLXQVUVOXQPRSOLCDHYKITXTA</td>\n",
       "      <td>B00V4584GW</td>\n",
       "      <td>5.0</td>\n",
       "    </tr>\n",
       "    <tr>\n",
       "      <th>1</th>\n",
       "      <td>AGJ73TI25YFNYKVBWJZF4A63OM2Q</td>\n",
       "      <td>B00M55C1I2</td>\n",
       "      <td>5.0</td>\n",
       "    </tr>\n",
       "    <tr>\n",
       "      <th>2</th>\n",
       "      <td>AGJKPF6OWSILZNZINC4BCAUA7FBQ</td>\n",
       "      <td>B01G5I6Q94</td>\n",
       "      <td>4.0</td>\n",
       "    </tr>\n",
       "    <tr>\n",
       "      <th>3</th>\n",
       "      <td>AGYRUMD34XLXOSYFCH6ZEULE6COA</td>\n",
       "      <td>B00M562LF4</td>\n",
       "      <td>1.0</td>\n",
       "    </tr>\n",
       "    <tr>\n",
       "      <th>4</th>\n",
       "      <td>AH6FHMR6ORMDLRHWUPX3BEK2KP5A</td>\n",
       "      <td>B004FLJVXM</td>\n",
       "      <td>4.0</td>\n",
       "    </tr>\n",
       "    <tr>\n",
       "      <th>...</th>\n",
       "      <td>...</td>\n",
       "      <td>...</td>\n",
       "      <td>...</td>\n",
       "    </tr>\n",
       "    <tr>\n",
       "      <th>17295</th>\n",
       "      <td>AF2RVEFTGV3B5V6QV25Y3QTB3OCQ</td>\n",
       "      <td>B00RDDLBNC</td>\n",
       "      <td>5.0</td>\n",
       "    </tr>\n",
       "    <tr>\n",
       "      <th>17296</th>\n",
       "      <td>AHZDQVG3FDDVVMSTRDWF3WTWCGXA</td>\n",
       "      <td>B00OTJZNI2</td>\n",
       "      <td>5.0</td>\n",
       "    </tr>\n",
       "    <tr>\n",
       "      <th>17297</th>\n",
       "      <td>AEUGAUPMSXO4UZLP2PXQVZOHPIFQ</td>\n",
       "      <td>B01DLMD5O6</td>\n",
       "      <td>2.0</td>\n",
       "    </tr>\n",
       "    <tr>\n",
       "      <th>17298</th>\n",
       "      <td>AESBHANJOGCQXKXUMDOMWOAV7ROQ</td>\n",
       "      <td>B00LA58P0Q</td>\n",
       "      <td>5.0</td>\n",
       "    </tr>\n",
       "    <tr>\n",
       "      <th>17299</th>\n",
       "      <td>AGQXYYLP3QVPU6KLKHCKBSBFI76A</td>\n",
       "      <td>B01CCPKCSK</td>\n",
       "      <td>5.0</td>\n",
       "    </tr>\n",
       "  </tbody>\n",
       "</table>\n",
       "<p>17300 rows × 3 columns</p>\n",
       "</div>"
      ],
      "text/plain": [
       "                             userId      itemId  rate\n",
       "0      AE7MLXQVUVOXQPRSOLCDHYKITXTA  B00V4584GW   5.0\n",
       "1      AGJ73TI25YFNYKVBWJZF4A63OM2Q  B00M55C1I2   5.0\n",
       "2      AGJKPF6OWSILZNZINC4BCAUA7FBQ  B01G5I6Q94   4.0\n",
       "3      AGYRUMD34XLXOSYFCH6ZEULE6COA  B00M562LF4   1.0\n",
       "4      AH6FHMR6ORMDLRHWUPX3BEK2KP5A  B004FLJVXM   4.0\n",
       "...                             ...         ...   ...\n",
       "17295  AF2RVEFTGV3B5V6QV25Y3QTB3OCQ  B00RDDLBNC   5.0\n",
       "17296  AHZDQVG3FDDVVMSTRDWF3WTWCGXA  B00OTJZNI2   5.0\n",
       "17297  AEUGAUPMSXO4UZLP2PXQVZOHPIFQ  B01DLMD5O6   2.0\n",
       "17298  AESBHANJOGCQXKXUMDOMWOAV7ROQ  B00LA58P0Q   5.0\n",
       "17299  AGQXYYLP3QVPU6KLKHCKBSBFI76A  B01CCPKCSK   5.0\n",
       "\n",
       "[17300 rows x 3 columns]"
      ]
     },
     "execution_count": 3,
     "metadata": {},
     "output_type": "execute_result"
    }
   ],
   "source": [
    "data_all['de']"
   ]
  }
 ],
 "metadata": {
  "kernelspec": {
   "display_name": "Python 3 (ipykernel)",
   "language": "python",
   "name": "python3"
  },
  "language_info": {
   "codemirror_mode": {
    "name": "ipython",
    "version": 3
   },
   "file_extension": ".py",
   "mimetype": "text/x-python",
   "name": "python",
   "nbconvert_exporter": "python",
   "pygments_lexer": "ipython3",
   "version": "3.9.13"
  }
 },
 "nbformat": 4,
 "nbformat_minor": 5
}
